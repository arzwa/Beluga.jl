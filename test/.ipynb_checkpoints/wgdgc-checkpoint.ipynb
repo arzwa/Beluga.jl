{
 "cells": [
  {
   "cell_type": "code",
   "execution_count": 1,
   "metadata": {},
   "outputs": [
    {
     "name": "stderr",
     "output_type": "stream",
     "text": [
      "Loading required package: phylobase\n",
      "Error: package or namespace load failed for ‘phylobase’ in dyn.load(file, DLLpath = DLLpath, ...):\n",
      " unable to load shared object '/home/arzwa/R/x86_64-pc-linux-gnu-library/3.4/curl/libs/curl.so':\n",
      "  /usr/lib/x86_64-linux-gnu/libcurl.so.4: version `CURL_OPENSSL_3' not found (required by /home/arzwa/R/x86_64-pc-linux-gnu-library/3.4/curl/libs/curl.so)\n"
     ]
    },
    {
     "ename": "ERROR",
     "evalue": "Error: package ‘phylobase’ could not be loaded\n",
     "output_type": "error",
     "traceback": [
      "Error: package ‘phylobase’ could not be loaded\nTraceback:\n",
      "1. library(\"WGDgc\")",
      "2. .getRequiredPackages2(pkgInfo, quietly = quietly)",
      "3. stop(gettextf(\"package %s could not be loaded\", sQuote(pkg)), \n .     call. = FALSE, domain = NA)"
     ]
    }
   ],
   "source": [
    "library(\"ape\")\n",
    "library(\"WGDgc\")\n",
    "library(\"microbenchmark\")"
   ]
  },
  {
   "cell_type": "code",
   "execution_count": null,
   "metadata": {},
   "outputs": [],
   "source": []
  },
  {
   "cell_type": "code",
   "execution_count": 156,
   "metadata": {},
   "outputs": [
    {
     "name": "stderr",
     "output_type": "stream",
     "text": [
      "Warning message in asMethod(object):\n",
      "“losing data while coercing phylo4d to phylo”"
     ]
    },
    {
     "name": "stdout",
     "output_type": "stream",
     "text": [
      "found no WGD (or WGT)\n"
     ]
    },
    {
     "data": {
      "text/html": [
       "<dl>\n",
       "\t<dt>$loglikRoot</dt>\n",
       "\t\t<dd><table>\n",
       "<caption>A matrix: 12 × 2 of type dbl</caption>\n",
       "<tbody>\n",
       "\t<tr><td>      -Inf</td><td>      -Inf</td></tr>\n",
       "\t<tr><td>-13.032134</td><td>-13.032134</td></tr>\n",
       "\t<tr><td>-10.290639</td><td>-10.290639</td></tr>\n",
       "\t<tr><td> -8.968442</td><td> -8.968442</td></tr>\n",
       "\t<tr><td> -8.413115</td><td> -8.413115</td></tr>\n",
       "\t<tr><td> -8.380409</td><td> -8.380409</td></tr>\n",
       "\t<tr><td> -8.784810</td><td> -8.784810</td></tr>\n",
       "\t<tr><td> -9.592097</td><td> -9.592097</td></tr>\n",
       "\t<tr><td>-10.801585</td><td>-10.801585</td></tr>\n",
       "\t<tr><td>-12.448171</td><td>-12.448171</td></tr>\n",
       "\t<tr><td>-14.626760</td><td>-14.626760</td></tr>\n",
       "\t<tr><td>-17.606982</td><td>-17.606982</td></tr>\n",
       "</tbody>\n",
       "</table>\n",
       "</dd>\n",
       "\t<dt>$doomedRoot</dt>\n",
       "\t\t<dd>0.817669336686759</dd>\n",
       "\t<dt>$doomedRootLeft</dt>\n",
       "\t\t<dd>0.938284827880156</dd>\n",
       "\t<dt>$doomedRootRight</dt>\n",
       "\t\t<dd>0.871451090746186</dd>\n",
       "</dl>\n"
      ],
      "text/latex": [
       "\\begin{description}\n",
       "\\item[\\$loglikRoot] A matrix: 12 × 2 of type dbl\n",
       "\\begin{tabular}{ll}\n",
       "\t       -Inf &       -Inf\\\\\n",
       "\t -13.032134 & -13.032134\\\\\n",
       "\t -10.290639 & -10.290639\\\\\n",
       "\t  -8.968442 &  -8.968442\\\\\n",
       "\t  -8.413115 &  -8.413115\\\\\n",
       "\t  -8.380409 &  -8.380409\\\\\n",
       "\t  -8.784810 &  -8.784810\\\\\n",
       "\t  -9.592097 &  -9.592097\\\\\n",
       "\t -10.801585 & -10.801585\\\\\n",
       "\t -12.448171 & -12.448171\\\\\n",
       "\t -14.626760 & -14.626760\\\\\n",
       "\t -17.606982 & -17.606982\\\\\n",
       "\\end{tabular}\n",
       "\n",
       "\\item[\\$doomedRoot] 0.817669336686759\n",
       "\\item[\\$doomedRootLeft] 0.938284827880156\n",
       "\\item[\\$doomedRootRight] 0.871451090746186\n",
       "\\end{description}\n"
      ],
      "text/markdown": [
       "$loglikRoot\n",
       ":   \n",
       "A matrix: 12 × 2 of type dbl\n",
       "\n",
       "|       -Inf |       -Inf |\n",
       "| -13.032134 | -13.032134 |\n",
       "| -10.290639 | -10.290639 |\n",
       "|  -8.968442 |  -8.968442 |\n",
       "|  -8.413115 |  -8.413115 |\n",
       "|  -8.380409 |  -8.380409 |\n",
       "|  -8.784810 |  -8.784810 |\n",
       "|  -9.592097 |  -9.592097 |\n",
       "| -10.801585 | -10.801585 |\n",
       "| -12.448171 | -12.448171 |\n",
       "| -14.626760 | -14.626760 |\n",
       "| -17.606982 | -17.606982 |\n",
       "\n",
       "\n",
       "$doomedRoot\n",
       ":   0.817669336686759\n",
       "$doomedRootLeft\n",
       ":   0.938284827880156\n",
       "$doomedRootRight\n",
       ":   0.871451090746186\n",
       "\n",
       "\n"
      ],
      "text/plain": [
       "$loglikRoot\n",
       "            [,1]       [,2]\n",
       " [1,]       -Inf       -Inf\n",
       " [2,] -13.032134 -13.032134\n",
       " [3,] -10.290639 -10.290639\n",
       " [4,]  -8.968442  -8.968442\n",
       " [5,]  -8.413115  -8.413115\n",
       " [6,]  -8.380409  -8.380409\n",
       " [7,]  -8.784810  -8.784810\n",
       " [8,]  -9.592097  -9.592097\n",
       " [9,] -10.801585 -10.801585\n",
       "[10,] -12.448171 -12.448171\n",
       "[11,] -14.626760 -14.626760\n",
       "[12,] -17.606982 -17.606982\n",
       "\n",
       "$doomedRoot\n",
       "[1] 0.8176693\n",
       "\n",
       "$doomedRootLeft\n",
       "[1] 0.9382848\n",
       "\n",
       "$doomedRootRight\n",
       "[1] 0.8714511\n"
      ]
     },
     "metadata": {},
     "output_type": "display_data"
    }
   ],
   "source": [
    "tre.string = \"(D:{0,18.03},(C:{0,12.06},(B:{0,7.06},A:{0,7.06}):{0,4.99}):{0, 5.97});\"\n",
    "tre.phylo4d = read.simmap(text=tre.string)\n",
    "tre.phylo = as(tre.phylo4d, \"phylo\")\n",
    "dat = data.frame(A=c(2,2), B=c(2,2), C=c(3,3), D=c(4,4));\n",
    "a = processInput(tre.phylo4d, startingQ=c())\n",
    "logLik_CsurosMiklos(log(c(.2,.3)), \n",
    "    nLeaf=4, nFamily=2, a$phyloMat, dat, mMax=11, \n",
    "    a$wgdTab, a$edgeOrder)"
   ]
  },
  {
   "cell_type": "code",
   "execution_count": 159,
   "metadata": {},
   "outputs": [
    {
     "name": "stderr",
     "output_type": "stream",
     "text": [
      "Warning message in asMethod(object):\n",
      "“losing data while coercing phylo4d to phylo”"
     ]
    },
    {
     "name": "stdout",
     "output_type": "stream",
     "text": [
      "found: 1 WGD(s)\n"
     ]
    },
    {
     "data": {
      "text/html": [
       "<dl>\n",
       "\t<dt>$loglikRoot</dt>\n",
       "\t\t<dd><table>\n",
       "<caption>A matrix: 12 × 2 of type dbl</caption>\n",
       "<tbody>\n",
       "\t<tr><td>      -Inf</td><td>      -Inf</td></tr>\n",
       "\t<tr><td>-12.637158</td><td>-12.637158</td></tr>\n",
       "\t<tr><td>-10.111977</td><td>-10.111977</td></tr>\n",
       "\t<tr><td> -8.977271</td><td> -8.977271</td></tr>\n",
       "\t<tr><td> -8.593883</td><td> -8.593883</td></tr>\n",
       "\t<tr><td> -8.726737</td><td> -8.726737</td></tr>\n",
       "\t<tr><td> -9.291837</td><td> -9.291837</td></tr>\n",
       "\t<tr><td>-10.256764</td><td>-10.256764</td></tr>\n",
       "\t<tr><td>-11.621643</td><td>-11.621643</td></tr>\n",
       "\t<tr><td>-13.421929</td><td>-13.421929</td></tr>\n",
       "\t<tr><td>-15.752959</td><td>-15.752959</td></tr>\n",
       "\t<tr><td>-18.884303</td><td>-18.884303</td></tr>\n",
       "</tbody>\n",
       "</table>\n",
       "</dd>\n",
       "\t<dt>$doomedRoot</dt>\n",
       "\t\t<dd>0.778372527869781</dd>\n",
       "\t<dt>$doomedRootLeft</dt>\n",
       "\t\t<dd>0.938284827880156</dd>\n",
       "\t<dt>$doomedRootRight</dt>\n",
       "\t\t<dd>0.829569555790793</dd>\n",
       "</dl>\n"
      ],
      "text/latex": [
       "\\begin{description}\n",
       "\\item[\\$loglikRoot] A matrix: 12 × 2 of type dbl\n",
       "\\begin{tabular}{ll}\n",
       "\t       -Inf &       -Inf\\\\\n",
       "\t -12.637158 & -12.637158\\\\\n",
       "\t -10.111977 & -10.111977\\\\\n",
       "\t  -8.977271 &  -8.977271\\\\\n",
       "\t  -8.593883 &  -8.593883\\\\\n",
       "\t  -8.726737 &  -8.726737\\\\\n",
       "\t  -9.291837 &  -9.291837\\\\\n",
       "\t -10.256764 & -10.256764\\\\\n",
       "\t -11.621643 & -11.621643\\\\\n",
       "\t -13.421929 & -13.421929\\\\\n",
       "\t -15.752959 & -15.752959\\\\\n",
       "\t -18.884303 & -18.884303\\\\\n",
       "\\end{tabular}\n",
       "\n",
       "\\item[\\$doomedRoot] 0.778372527869781\n",
       "\\item[\\$doomedRootLeft] 0.938284827880156\n",
       "\\item[\\$doomedRootRight] 0.829569555790793\n",
       "\\end{description}\n"
      ],
      "text/markdown": [
       "$loglikRoot\n",
       ":   \n",
       "A matrix: 12 × 2 of type dbl\n",
       "\n",
       "|       -Inf |       -Inf |\n",
       "| -12.637158 | -12.637158 |\n",
       "| -10.111977 | -10.111977 |\n",
       "|  -8.977271 |  -8.977271 |\n",
       "|  -8.593883 |  -8.593883 |\n",
       "|  -8.726737 |  -8.726737 |\n",
       "|  -9.291837 |  -9.291837 |\n",
       "| -10.256764 | -10.256764 |\n",
       "| -11.621643 | -11.621643 |\n",
       "| -13.421929 | -13.421929 |\n",
       "| -15.752959 | -15.752959 |\n",
       "| -18.884303 | -18.884303 |\n",
       "\n",
       "\n",
       "$doomedRoot\n",
       ":   0.778372527869781\n",
       "$doomedRootLeft\n",
       ":   0.938284827880156\n",
       "$doomedRootRight\n",
       ":   0.829569555790793\n",
       "\n",
       "\n"
      ],
      "text/plain": [
       "$loglikRoot\n",
       "            [,1]       [,2]\n",
       " [1,]       -Inf       -Inf\n",
       " [2,] -12.637158 -12.637158\n",
       " [3,] -10.111977 -10.111977\n",
       " [4,]  -8.977271  -8.977271\n",
       " [5,]  -8.593883  -8.593883\n",
       " [6,]  -8.726737  -8.726737\n",
       " [7,]  -9.291837  -9.291837\n",
       " [8,] -10.256764 -10.256764\n",
       " [9,] -11.621643 -11.621643\n",
       "[10,] -13.421929 -13.421929\n",
       "[11,] -15.752959 -15.752959\n",
       "[12,] -18.884303 -18.884303\n",
       "\n",
       "$doomedRoot\n",
       "[1] 0.7783725\n",
       "\n",
       "$doomedRootLeft\n",
       "[1] 0.9382848\n",
       "\n",
       "$doomedRootRight\n",
       "[1] 0.8295696\n"
      ]
     },
     "metadata": {},
     "output_type": "display_data"
    }
   ],
   "source": [
    "tre.string = \"(D:{0,18.03},(C:{0,12.06},(B:{0,7.06},A:{0,7.06}):{0,4.99}):{0,2:wgd,0:0,3.97});\"\n",
    "tre.phylo4d = read.simmap(text=tre.string)\n",
    "tre.phylo = as(tre.phylo4d, \"phylo\")\n",
    "dat = data.frame(A=c(2,2), B=c(2,2), C=c(3,3), D=c(4,4));\n",
    "a = processInput(tre.phylo4d, startingQ=c(0.5))\n",
    "logLik_CsurosMiklos(log(c(.2,.3)), \n",
    "    nLeaf=4, nFamily=2, a$phyloMat, dat, mMax=11, \n",
    "    a$wgdTab, a$edgeOrder)"
   ]
  },
  {
   "cell_type": "code",
   "execution_count": 28,
   "metadata": {},
   "outputs": [
    {
     "data": {
      "text/html": [
       "0.666666666666667"
      ],
      "text/latex": [
       "0.666666666666667"
      ],
      "text/markdown": [
       "0.666666666666667"
      ],
      "text/plain": [
       "[1] 0.6666667"
      ]
     },
     "metadata": {},
     "output_type": "display_data"
    }
   ],
   "source": [
    "1/1.5"
   ]
  },
  {
   "cell_type": "code",
   "execution_count": null,
   "metadata": {},
   "outputs": [],
   "source": [
    "(D:18.03,(C:12.06,(B:7.06,A:7.06):4.99):5.97);"
   ]
  },
  {
   "cell_type": "code",
   "execution_count": 16,
   "metadata": {},
   "outputs": [
    {
     "data": {
      "text/html": [
       "'(D:18.03,(C:12.06,(B:7.06,A:7.06)Internal0000001:4.99)Internal0000002:5.97)Root:0;'"
      ],
      "text/latex": [
       "'(D:18.03,(C:12.06,(B:7.06,A:7.06)Internal0000001:4.99)Internal0000002:5.97)Root:0;'"
      ],
      "text/markdown": [
       "'(D:18.03,(C:12.06,(B:7.06,A:7.06)Internal0000001:4.99)Internal0000002:5.97)Root:0;'"
      ],
      "text/plain": [
       "[1] \"(D:18.03,(C:12.06,(B:7.06,A:7.06)Internal0000001:4.99)Internal0000002:5.97)Root:0;\""
      ]
     },
     "metadata": {},
     "output_type": "display_data"
    }
   ],
   "source": [
    "write.tree(tre.phylo)"
   ]
  },
  {
   "cell_type": "code",
   "execution_count": 12,
   "metadata": {},
   "outputs": [],
   "source": [
    "?write.tree"
   ]
  },
  {
   "cell_type": "code",
   "execution_count": 153,
   "metadata": {},
   "outputs": [],
   "source": [
    "logLik_CsurosMiklos_ <-\n",
    "function(logLamlogMu, nLeaf, nFamily, phyloMat, geneCountData, mMax, wgdTab, edgeOrder) {\n",
    " # by Cecile Ane, October 2013. Based on Csuros & Miklos (2009).\n",
    " # Replaces getMatAndMatDoomed(). Used by getLikGeneCount().\n",
    " # phyloMat, wgdTab: see processInput.r. edgeOrder: see getEdgeOrder().\n",
    "\n",
    " nNode = max(phyloMat$Child)\t\n",
    " root = nLeaf +1\n",
    "\n",
    " sameBDrates = length(logLamlogMu)==1 || isTRUE(all.equal(logLamlogMu[1],logLamlogMu[2]))\n",
    " logLam = logLamlogMu[1]\n",
    " #cat(\"  lambda=\",exp(logLam),\"\\n\")\n",
    " if (!sameBDrates){\n",
    "  logMu = logLamlogMu[2]\n",
    "  #cat(\"  mu    =\",exp(logMu),\"\\n\")\n",
    "  lmdiff = exp(logLam) - exp(logMu)\t# lam - mu\n",
    "  mlratio = exp(logMu) / exp(logLam)\t# mu/lam\n",
    " }\n",
    "\n",
    " doomedNode = array (NA, nNode)\n",
    " # probability that a lineage starting at the node is doomed below that node: D values\n",
    " doomedEdge = array (NA, nNode)\n",
    " # probability that a lineage starting at the beginning of the parent edge\n",
    " # of the node is doommed below that node. G_xi(0) values in Csuros & Miklos (2009).\n",
    "\n",
    " transitionProb = array(0, c(mMax+1,mMax+1, nNode))\n",
    " # entry (i+1,j+1,n) is the probability that there are j genes at node n\n",
    " # and that the i original genes all survive below node n, given that \n",
    " # there are i genes at the parent of node n. w* values in Csuros & Miklos (2009)\n",
    " transitionProb[1,1, ]= 1 # w*(0|0)=1 for all nodes. Others initialized to 0\n",
    "\n",
    "\n",
    " loglik = array (-Inf, c(mMax+1, nNode-nLeaf, nFamily))\n",
    " # 3D matrix of size M x (nNode-nLeaf) x nFamily\n",
    " # entry (i,j,k): probability of data below node j+nLeaf in family k\n",
    " # given that there are i surviving genes at node j+nLeaf\n",
    " # !!Warning: assumes 2 children at each speciation node in the species tree!!\n",
    "\n",
    " # Auxiliary value B_n: probability of observing data below node n and\n",
    " # first s genes at the parent of n all survive below n, given that\n",
    " # there are s+t genes at the parent of n. Not needed on WGD edges.\n",
    " # case t=0 only needed for first sibling edges. \n",
    " # 2 data structures to save space:\n",
    " # logB0 = log of B_node for t=0 for all edges, and\n",
    " # logB for t>0 only and for second siblings only.\n",
    " sib2toNode = edgeOrder$child[ edgeOrder$scdsib]\n",
    " nsib2 = length(sib2toNode)\n",
    " node2sib = rep(NA,nNode)\n",
    " node2sib[sib2toNode] = 1:nsib2\n",
    " logB  = array(NA, c(mMax+1, nsib2, nFamily, mMax))\n",
    " # log(B): s=i-1, node=j, family=k, t=ell, i.e. starts at t=1\n",
    " logB0  = array(NA, c(mMax+1, nNode, nFamily))\n",
    "\n",
    " for (ie in 1:dim(edgeOrder)[1]){\n",
    "  \n",
    "  node = edgeOrder$child[ie]\n",
    "  edge = edgeOrder$edge[ie]\n",
    "  childEdges = which(phyloMat$Parent == node)\n",
    "  childNodes = phyloMat$Child[childEdges]\n",
    "\n",
    "  # calculate doomedNode: Dx=prod Gx of children\n",
    "  if (length(childEdges)){ # node x is not a leaf\n",
    "   doomedNode[node] = prod( doomedEdge[childEdges] )\n",
    "  } else {                # node x is a leaf\n",
    "   doomedNode[node]=0 # Change this to account for data error model\n",
    "  }\n",
    "\n",
    "  # calculate lokLik: from B values of children edges\n",
    "  if (length(childEdges)==1){   # node not a leaf, but single child edge\n",
    "   loglik[,node-nLeaf,] = -(0:mMax)*log(1-doomedEdge[childEdges]) + logB0[,childNodes,]\n",
    "   #                        0:mMax correctly recycled to fill in array\n",
    "  }\n",
    "  if (length(childEdges)>1) { # there should be 2 children\n",
    "   # first part: sum n!/(s!(n-s)!) D_x1^s B_x1;0,n-s  B_x2;n-s,s\n",
    "   logDedge1 = log(doomedEdge[childEdges[1]])\n",
    "   # lik: mMax+1 x nFamily matrix, node specific.\n",
    "   # initializing with term from t=0=n-s: D_x1^s B_x1;0,0  B_x2;0,s\n",
    "   lik = exp((0:mMax)*logDedge1 +rep(logB0[0+1,childNodes[1],],each=mMax+1) +logB0[,childNodes[2],])\n",
    "   # adding contribution of all t=n-s>0 values, for s fixed.\n",
    "   for (s in 0:(mMax-1)){ # s=mMax contributes to n=mMax only, with t=0: already covered\n",
    "    tMax = mMax-s\n",
    "    lik[s +1:tMax +1,] = lik[s +1:tMax +1,] +\n",
    "      exp( lchoose(1:tMax+s,s) + s*logDedge1 + logB0[1:tMax +1,childNodes[1],] + \n",
    "           t(logB[s+1,node2sib[childNodes[2]],,1:tMax]))\n",
    "   }\n",
    "   # second part:  * (1-Dx)^(-n)\n",
    "   loglik[,node-nLeaf,] = log(lik) - (0:mMax)*log(1-doomedNode[node])\n",
    "  }\n",
    "\n",
    "  # calculate doomedEdge and transition probs on parent edge.\n",
    "  if (edgeOrder$type[ie] == \"BD\"){\n",
    "   len = phyloMat$Time[edge] # branch length\n",
    "   if (sameBDrates){\n",
    "    gam = exp(logLam)*len/(1+exp(logLam)*len)\n",
    "    psi   = gam\n",
    "   } else {\n",
    "    psi = (exp(lmdiff *len) -1) / (exp(lmdiff *len) -mlratio)\n",
    "    gam = psi * mlratio\n",
    "   }\n",
    "   doomedEdge[edge] = gam + (1-gam)*(1-psi)*doomedNode[node]/(1-psi*doomedNode[node])\n",
    "   psiprime = 1 - (1-psi)/(1-psi*doomedNode[node])\n",
    "   G1 = (1-doomedEdge[edge])*(1-psiprime)\n",
    "   for (j in 1:mMax){ # w*(j|i) = G1 w*(j-1|i-1) + psi' w*(j-1|i), for j>=i.\n",
    "    transitionProb[1:j +1, j+1, node] = G1* transitionProb[1:j,  j, node] +\n",
    "                                  psiprime* transitionProb[1:j+1,j, node]\n",
    "   }\n",
    "  }\n",
    "  if (edgeOrder$type[ie] == \"WGD\"){\n",
    "   ievent = wgdTab$wgdNode == phyloMat$Parent[edge]\n",
    "   p1g = wgdTab$retain1[ievent] # prob to retain 1 gene\n",
    "   p2g = wgdTab$retain2[ievent]\n",
    "   doomedEdge[edge] = p1g * doomedNode[node] + p2g * doomedNode[node]^2\n",
    "   G1 = (p1g + 2*p2g*doomedNode[node]) * (1-doomedNode[node])\n",
    "   G2 = p2g * (1-doomedNode[node])^2\n",
    "    cat(c(doomedNode[node], p1g, p2g, G1, G2))\n",
    "   transitionProb[2,2, node]=G1 # w*(1|1)\n",
    "   transitionProb[2,3, node]=G2 # w*(2|1)\n",
    "   # transitionProb[1+ 0:mMax * (mMax+2) + (mMax+1)*(mMax+1)*(node-1)] <- G1^(0:mMax)\n",
    "   for (i in 2:mMax){ # w*(j|i) = G1 w*(j-1|i-1) + G2 w*(j-2|i-1), for j in [i,2i].\n",
    "    jmax = min(2*i, mMax)\n",
    "    transitionProb[i+1, i:jmax+1, node] = G1* transitionProb[i, i:jmax,   node] +\n",
    "                                          G2* transitionProb[i, i:jmax-1, node]\n",
    "   }\n",
    "  }\n",
    "  if (edgeOrder$type[ie] == \"WGT\"){\n",
    "   ievent = wgdTab$wgdNode == phyloMat$Parent[edge]\n",
    "   p1g = wgdTab$retain1[ievent]\n",
    "   p2g = wgdTab$retain2[ievent]\n",
    "   p3g = wgdTab$retain3[ievent]\n",
    "   doomedEdge[edge] = p1g * doomedNode[node] + p2g * doomedNode[node]^2 + p3g * doomedNode[node]^3\n",
    "   G1 = (p1g + 2*p2g*doomedNode[node] + 3*p3g*doomedNode[node]^2) * (1-doomedNode[node])\n",
    "   G2 = (p2g + 3*p3g*doomedNode[node]) * (1-doomedNode[node])^2\n",
    "   G3 = p3g * (1-doomedNode[node])^3\n",
    "   transitionProb[2,2, node]=G1 # w*(1|1)\n",
    "   transitionProb[2,3, node]=G2 # w*(2|1)\n",
    "   transitionProb[2,4, node]=G3 # w*(3|1)\n",
    "   # transitionProb[1+ 0:mMax * (mMax+2) + (mMax+1)*(mMax+1)*(node-1)] <- G1^(0:mMax)\n",
    "   for (i in 2:mMax){ # w*(j|i) = G1 w*(j-1|i-1) + G2 w*(j-2|i-1) + G3 w*(j-3|i-1), for j in [i,3i].\n",
    "    jmax = min(3*i, mMax)\n",
    "    if (i>2){\n",
    "     transitionProb[i+1, i:jmax+1, node] = G1* transitionProb[i, i:jmax,   node] +\n",
    "                                           G2* transitionProb[i, i:jmax-1, node] +\n",
    "                                           G3* transitionProb[i, i:jmax-2, node]\n",
    "    } else { # i=2. problem for j=i: j-3 is outside the bounds of table\n",
    "     transitionProb[2+1, 2+1, node] = G1* transitionProb[2, 2,   node] +\n",
    "                                      G2* transitionProb[2, 2-1, node]\n",
    "     if (jmax >=3)\n",
    "       transitionProb[2+1,3:jmax+1,node] = G1* transitionProb[2, 3:jmax,   node] +\n",
    "                                           G2* transitionProb[2, 3:jmax-1, node] +\n",
    "                                           G3* transitionProb[2, 3:jmax-2, node]\n",
    "    }\n",
    "   }\n",
    "  }\n",
    "\n",
    "  # calculate Bs along parent edge, unless root edge\n",
    "  if (edgeOrder$type[ie] != \"rootPrior\"){ # B values for t=0\n",
    "   if (length(childEdges)==0){ # leaf edge: B0 = transitionProb(s,data at the tip)\n",
    "    leafName = as.character(phyloMat$Species[edge])\n",
    "    logB0[,node,] = log( transitionProb[,geneCountData[,leafName]+1,node] )\n",
    "    fam.na = which(is.na(geneCountData[,leafName])) # families with missing data at the leaf\n",
    "    logB0[,node,fam.na] = (0:mMax)*log(1-doomedEdge[edge]) # 0:mMax recycled okay\n",
    "   } else {\n",
    "    logB0[,node,] = log( transitionProb[,,node] %*% exp(loglik[,node-nLeaf,]) )\n",
    "   }\n",
    "   if (edgeOrder$scdsib[ie]){   # other B values, for t>0\n",
    "    #print(dim(logB))\n",
    "    \n",
    "    lde = log(doomedEdge[edge]) # log of Gx(0)\n",
    "    # initialize with case s=mMax: B_t,mMax = Gx(0)^t * B_0,mMax\n",
    "    logB[mMax+1,node2sib[node],,1:mMax] =\n",
    "      matrix( (1:mMax)*lde, nFamily,mMax,byrow=T)  +\n",
    "      logB0[mMax+1,node,] # logB0 of families recycled okay across m values\n",
    "    #print(logB)\n",
    "    for (t in 1:mMax){ # B_t,s = B_t-1,s+1 + Gx(0)*B_t-1,s\n",
    "     #logB[1:mMax,node,,t+1] = log(exp(logB[(1:mMax)+1,node,,t]) + exp(logB[1:mMax,node,,t]+log(doomedEdge[edge])))\n",
    "     # to limit rounding errors, calculate log( exp(x) + exp(y) ) as: max + log(1 + exp(min-max))\n",
    "     # but issues when x=-Inf and y=-Inf, because min-max = -Inf - -Inf = NaN\n",
    "     if (t>1){\n",
    "      x=logB[(1:mMax)+1,node2sib[node],,t-1]\n",
    "      y=logB[ 1:mMax,   node2sib[node],,t-1] + lde\n",
    "     } else {\n",
    "      x=logB0[(1:mMax)+1,node,]\n",
    "      y=logB0[ 1:mMax,   node,] + lde\n",
    "     }\n",
    "     tmp2 = pmax(x, y)\n",
    "     tmp3 = which(tmp2 != -Inf)\n",
    "     logB[1:mMax,node2sib[node],,t][tmp3] = tmp2[tmp3] + log(1+exp(pmin(x[tmp3], y[tmp3]) - tmp2[tmp3]))\n",
    "     logB[1:mMax,node2sib[node],,t][-tmp3]= -Inf\n",
    "    }\n",
    "   }\n",
    "  }\n",
    "\n",
    " }\n",
    "    \n",
    " #return(list(loglik=loglik,doomedNode=doomedNode,doomedEdge=doomedEdge,w=transitionProb,logB0=logB0,logB=logB))\n",
    "\n",
    "return(list(loglikRoot=loglik[,root-nLeaf,],doomedNode=doomedNode,\n",
    "doomedEdge =doomedEdge,doomedRootRight=doomedEdge[childEdges[2]], W=transitionProb))\n",
    "}"
   ]
  },
  {
   "cell_type": "code",
   "execution_count": 152,
   "metadata": {},
   "outputs": [
    {
     "ename": "ERROR",
     "evalue": "Error in logB0[, node, ] <- log(transitionProb[, geneCountData[, leafName] + : number of items to replace is not a multiple of replacement length\n",
     "output_type": "error",
     "traceback": [
      "Error in logB0[, node, ] <- log(transitionProb[, geneCountData[, leafName] + : number of items to replace is not a multiple of replacement length\nTraceback:\n",
      "1. logLik_CsurosMiklos_(log(c(0.2, 0.3)), nLeaf = 4, nFamily = 2, \n .     a$phyloMat, dat, mMax = 11, a$wgdTab, a$edgeOrder)"
     ]
    }
   ],
   "source": [
    "o = logLik_CsurosMiklos_(log(c(.2,.3)), \n",
    "    nLeaf=4, nFamily=2, a$phyloMat, dat, mMax=11, \n",
    "    a$wgdTab, a$edgeOrder)"
   ]
  },
  {
   "cell_type": "code",
   "execution_count": 146,
   "metadata": {
    "scrolled": false
   },
   "outputs": [
    {
     "data": {
      "text/html": [
       "<table>\n",
       "<caption>A matrix: 12 × 12 of type dbl</caption>\n",
       "<tbody>\n",
       "\t<tr><td>1</td><td>0.0000000</td><td>0.00000000</td><td>0.000000000</td><td>0.0000000000</td><td>0.0000000000</td><td>0.000000e+00</td><td>0.000000e+00</td><td>0.000000e+00</td><td>0.000000e+00</td><td>0.000000e+00</td><td>0.000000e+00</td></tr>\n",
       "\t<tr><td>0</td><td>0.1218427</td><td>0.06130789</td><td>0.030848436</td><td>0.0155220810</td><td>0.0078102826</td><td>3.929919e-03</td><td>1.977426e-03</td><td>9.949864e-04</td><td>5.006497e-04</td><td>2.519131e-04</td><td>1.267557e-04</td></tr>\n",
       "\t<tr><td>0</td><td>0.0000000</td><td>0.01484565</td><td>0.014939838</td><td>0.0112759709</td><td>0.0075650096</td><td>4.758130e-03</td><td>2.872992e-03</td><td>1.686545e-03</td><td>9.698547e-04</td><td>5.490046e-04</td><td>3.069377e-04</td></tr>\n",
       "\t<tr><td>0</td><td>0.0000000</td><td>0.00000000</td><td>0.001808834</td><td>0.0027304655</td><td>0.0027477897</td><td>2.304353e-03</td><td>1.739230e-03</td><td>1.225186e-03</td><td>8.219728e-04</td><td>5.317638e-04</td><td>3.344611e-04</td></tr>\n",
       "\t<tr><td>0</td><td>0.0000000</td><td>0.00000000</td><td>0.000000000</td><td>0.0002203932</td><td>0.0004435831</td><td>5.579969e-04</td><td>5.615373e-04</td><td>4.944626e-04</td><td>3.980799e-04</td><td>3.004542e-04</td><td>2.159718e-04</td></tr>\n",
       "\t<tr><td>0</td><td>0.0000000</td><td>0.00000000</td><td>0.000000000</td><td>0.0000000000</td><td>0.0000268533</td><td>6.755921e-05</td><td>1.019818e-04</td><td>1.197336e-04</td><td>1.204933e-04</td><td>1.091320e-04</td><td>9.152038e-05</td></tr>\n",
       "\t<tr><td>0</td><td>0.0000000</td><td>0.00000000</td><td>0.000000000</td><td>0.0000000000</td><td>0.0000000000</td><td>3.271879e-06</td><td>9.877916e-06</td><td>1.739603e-05</td><td>2.334187e-05</td><td>2.642622e-05</td><td>2.659389e-05</td></tr>\n",
       "\t<tr><td>0</td><td>0.0000000</td><td>0.00000000</td><td>0.000000000</td><td>0.0000000000</td><td>0.0000000000</td><td>0.000000e+00</td><td>3.986546e-07</td><td>1.404144e-06</td><td>2.826106e-06</td><td>4.266056e-06</td><td>5.366403e-06</td></tr>\n",
       "\t<tr><td>0</td><td>0.0000000</td><td>0.00000000</td><td>0.000000000</td><td>0.0000000000</td><td>0.0000000000</td><td>0.000000e+00</td><td>0.000000e+00</td><td>4.857316e-08</td><td>1.955254e-07</td><td>4.427234e-07</td><td>7.425540e-07</td></tr>\n",
       "\t<tr><td>0</td><td>0.0000000</td><td>0.00000000</td><td>0.000000000</td><td>0.0000000000</td><td>0.0000000000</td><td>0.000000e+00</td><td>0.000000e+00</td><td>0.000000e+00</td><td>5.918286e-09</td><td>2.680126e-08</td><td>6.742827e-08</td></tr>\n",
       "\t<tr><td>0</td><td>0.0000000</td><td>0.00000000</td><td>0.000000000</td><td>0.0000000000</td><td>0.0000000000</td><td>0.000000e+00</td><td>0.000000e+00</td><td>0.000000e+00</td><td>0.000000e+00</td><td>7.210999e-10</td><td>3.628376e-09</td></tr>\n",
       "\t<tr><td>0</td><td>0.0000000</td><td>0.00000000</td><td>0.000000000</td><td>0.0000000000</td><td>0.0000000000</td><td>0.000000e+00</td><td>0.000000e+00</td><td>0.000000e+00</td><td>0.000000e+00</td><td>0.000000e+00</td><td>8.786077e-11</td></tr>\n",
       "</tbody>\n",
       "</table>\n"
      ],
      "text/latex": [
       "A matrix: 12 × 12 of type dbl\n",
       "\\begin{tabular}{llllllllllll}\n",
       "\t 1 & 0.0000000 & 0.00000000 & 0.000000000 & 0.0000000000 & 0.0000000000 & 0.000000e+00 & 0.000000e+00 & 0.000000e+00 & 0.000000e+00 & 0.000000e+00 & 0.000000e+00\\\\\n",
       "\t 0 & 0.1218427 & 0.06130789 & 0.030848436 & 0.0155220810 & 0.0078102826 & 3.929919e-03 & 1.977426e-03 & 9.949864e-04 & 5.006497e-04 & 2.519131e-04 & 1.267557e-04\\\\\n",
       "\t 0 & 0.0000000 & 0.01484565 & 0.014939838 & 0.0112759709 & 0.0075650096 & 4.758130e-03 & 2.872992e-03 & 1.686545e-03 & 9.698547e-04 & 5.490046e-04 & 3.069377e-04\\\\\n",
       "\t 0 & 0.0000000 & 0.00000000 & 0.001808834 & 0.0027304655 & 0.0027477897 & 2.304353e-03 & 1.739230e-03 & 1.225186e-03 & 8.219728e-04 & 5.317638e-04 & 3.344611e-04\\\\\n",
       "\t 0 & 0.0000000 & 0.00000000 & 0.000000000 & 0.0002203932 & 0.0004435831 & 5.579969e-04 & 5.615373e-04 & 4.944626e-04 & 3.980799e-04 & 3.004542e-04 & 2.159718e-04\\\\\n",
       "\t 0 & 0.0000000 & 0.00000000 & 0.000000000 & 0.0000000000 & 0.0000268533 & 6.755921e-05 & 1.019818e-04 & 1.197336e-04 & 1.204933e-04 & 1.091320e-04 & 9.152038e-05\\\\\n",
       "\t 0 & 0.0000000 & 0.00000000 & 0.000000000 & 0.0000000000 & 0.0000000000 & 3.271879e-06 & 9.877916e-06 & 1.739603e-05 & 2.334187e-05 & 2.642622e-05 & 2.659389e-05\\\\\n",
       "\t 0 & 0.0000000 & 0.00000000 & 0.000000000 & 0.0000000000 & 0.0000000000 & 0.000000e+00 & 3.986546e-07 & 1.404144e-06 & 2.826106e-06 & 4.266056e-06 & 5.366403e-06\\\\\n",
       "\t 0 & 0.0000000 & 0.00000000 & 0.000000000 & 0.0000000000 & 0.0000000000 & 0.000000e+00 & 0.000000e+00 & 4.857316e-08 & 1.955254e-07 & 4.427234e-07 & 7.425540e-07\\\\\n",
       "\t 0 & 0.0000000 & 0.00000000 & 0.000000000 & 0.0000000000 & 0.0000000000 & 0.000000e+00 & 0.000000e+00 & 0.000000e+00 & 5.918286e-09 & 2.680126e-08 & 6.742827e-08\\\\\n",
       "\t 0 & 0.0000000 & 0.00000000 & 0.000000000 & 0.0000000000 & 0.0000000000 & 0.000000e+00 & 0.000000e+00 & 0.000000e+00 & 0.000000e+00 & 7.210999e-10 & 3.628376e-09\\\\\n",
       "\t 0 & 0.0000000 & 0.00000000 & 0.000000000 & 0.0000000000 & 0.0000000000 & 0.000000e+00 & 0.000000e+00 & 0.000000e+00 & 0.000000e+00 & 0.000000e+00 & 8.786077e-11\\\\\n",
       "\\end{tabular}\n"
      ],
      "text/markdown": [
       "\n",
       "A matrix: 12 × 12 of type dbl\n",
       "\n",
       "| 1 | 0.0000000 | 0.00000000 | 0.000000000 | 0.0000000000 | 0.0000000000 | 0.000000e+00 | 0.000000e+00 | 0.000000e+00 | 0.000000e+00 | 0.000000e+00 | 0.000000e+00 |\n",
       "| 0 | 0.1218427 | 0.06130789 | 0.030848436 | 0.0155220810 | 0.0078102826 | 3.929919e-03 | 1.977426e-03 | 9.949864e-04 | 5.006497e-04 | 2.519131e-04 | 1.267557e-04 |\n",
       "| 0 | 0.0000000 | 0.01484565 | 0.014939838 | 0.0112759709 | 0.0075650096 | 4.758130e-03 | 2.872992e-03 | 1.686545e-03 | 9.698547e-04 | 5.490046e-04 | 3.069377e-04 |\n",
       "| 0 | 0.0000000 | 0.00000000 | 0.001808834 | 0.0027304655 | 0.0027477897 | 2.304353e-03 | 1.739230e-03 | 1.225186e-03 | 8.219728e-04 | 5.317638e-04 | 3.344611e-04 |\n",
       "| 0 | 0.0000000 | 0.00000000 | 0.000000000 | 0.0002203932 | 0.0004435831 | 5.579969e-04 | 5.615373e-04 | 4.944626e-04 | 3.980799e-04 | 3.004542e-04 | 2.159718e-04 |\n",
       "| 0 | 0.0000000 | 0.00000000 | 0.000000000 | 0.0000000000 | 0.0000268533 | 6.755921e-05 | 1.019818e-04 | 1.197336e-04 | 1.204933e-04 | 1.091320e-04 | 9.152038e-05 |\n",
       "| 0 | 0.0000000 | 0.00000000 | 0.000000000 | 0.0000000000 | 0.0000000000 | 3.271879e-06 | 9.877916e-06 | 1.739603e-05 | 2.334187e-05 | 2.642622e-05 | 2.659389e-05 |\n",
       "| 0 | 0.0000000 | 0.00000000 | 0.000000000 | 0.0000000000 | 0.0000000000 | 0.000000e+00 | 3.986546e-07 | 1.404144e-06 | 2.826106e-06 | 4.266056e-06 | 5.366403e-06 |\n",
       "| 0 | 0.0000000 | 0.00000000 | 0.000000000 | 0.0000000000 | 0.0000000000 | 0.000000e+00 | 0.000000e+00 | 4.857316e-08 | 1.955254e-07 | 4.427234e-07 | 7.425540e-07 |\n",
       "| 0 | 0.0000000 | 0.00000000 | 0.000000000 | 0.0000000000 | 0.0000000000 | 0.000000e+00 | 0.000000e+00 | 0.000000e+00 | 5.918286e-09 | 2.680126e-08 | 6.742827e-08 |\n",
       "| 0 | 0.0000000 | 0.00000000 | 0.000000000 | 0.0000000000 | 0.0000000000 | 0.000000e+00 | 0.000000e+00 | 0.000000e+00 | 0.000000e+00 | 7.210999e-10 | 3.628376e-09 |\n",
       "| 0 | 0.0000000 | 0.00000000 | 0.000000000 | 0.0000000000 | 0.0000000000 | 0.000000e+00 | 0.000000e+00 | 0.000000e+00 | 0.000000e+00 | 0.000000e+00 | 8.786077e-11 |\n",
       "\n"
      ],
      "text/plain": [
       "      [,1] [,2]      [,3]       [,4]        [,5]         [,6]        \n",
       " [1,] 1    0.0000000 0.00000000 0.000000000 0.0000000000 0.0000000000\n",
       " [2,] 0    0.1218427 0.06130789 0.030848436 0.0155220810 0.0078102826\n",
       " [3,] 0    0.0000000 0.01484565 0.014939838 0.0112759709 0.0075650096\n",
       " [4,] 0    0.0000000 0.00000000 0.001808834 0.0027304655 0.0027477897\n",
       " [5,] 0    0.0000000 0.00000000 0.000000000 0.0002203932 0.0004435831\n",
       " [6,] 0    0.0000000 0.00000000 0.000000000 0.0000000000 0.0000268533\n",
       " [7,] 0    0.0000000 0.00000000 0.000000000 0.0000000000 0.0000000000\n",
       " [8,] 0    0.0000000 0.00000000 0.000000000 0.0000000000 0.0000000000\n",
       " [9,] 0    0.0000000 0.00000000 0.000000000 0.0000000000 0.0000000000\n",
       "[10,] 0    0.0000000 0.00000000 0.000000000 0.0000000000 0.0000000000\n",
       "[11,] 0    0.0000000 0.00000000 0.000000000 0.0000000000 0.0000000000\n",
       "[12,] 0    0.0000000 0.00000000 0.000000000 0.0000000000 0.0000000000\n",
       "      [,7]         [,8]         [,9]         [,10]        [,11]       \n",
       " [1,] 0.000000e+00 0.000000e+00 0.000000e+00 0.000000e+00 0.000000e+00\n",
       " [2,] 3.929919e-03 1.977426e-03 9.949864e-04 5.006497e-04 2.519131e-04\n",
       " [3,] 4.758130e-03 2.872992e-03 1.686545e-03 9.698547e-04 5.490046e-04\n",
       " [4,] 2.304353e-03 1.739230e-03 1.225186e-03 8.219728e-04 5.317638e-04\n",
       " [5,] 5.579969e-04 5.615373e-04 4.944626e-04 3.980799e-04 3.004542e-04\n",
       " [6,] 6.755921e-05 1.019818e-04 1.197336e-04 1.204933e-04 1.091320e-04\n",
       " [7,] 3.271879e-06 9.877916e-06 1.739603e-05 2.334187e-05 2.642622e-05\n",
       " [8,] 0.000000e+00 3.986546e-07 1.404144e-06 2.826106e-06 4.266056e-06\n",
       " [9,] 0.000000e+00 0.000000e+00 4.857316e-08 1.955254e-07 4.427234e-07\n",
       "[10,] 0.000000e+00 0.000000e+00 0.000000e+00 5.918286e-09 2.680126e-08\n",
       "[11,] 0.000000e+00 0.000000e+00 0.000000e+00 0.000000e+00 7.210999e-10\n",
       "[12,] 0.000000e+00 0.000000e+00 0.000000e+00 0.000000e+00 0.000000e+00\n",
       "      [,12]       \n",
       " [1,] 0.000000e+00\n",
       " [2,] 1.267557e-04\n",
       " [3,] 3.069377e-04\n",
       " [4,] 3.344611e-04\n",
       " [5,] 2.159718e-04\n",
       " [6,] 9.152038e-05\n",
       " [7,] 2.659389e-05\n",
       " [8,] 5.366403e-06\n",
       " [9,] 7.425540e-07\n",
       "[10,] 6.742827e-08\n",
       "[11,] 3.628376e-09\n",
       "[12,] 8.786077e-11"
      ]
     },
     "metadata": {},
     "output_type": "display_data"
    }
   ],
   "source": [
    "o$W[,,4]"
   ]
  },
  {
   "cell_type": "code",
   "execution_count": 161,
   "metadata": {},
   "outputs": [
    {
     "data": {
      "text/html": [
       "<ol class=list-inline>\n",
       "\t<li>0.938284827880156</li>\n",
       "\t<li>0.875316268362371</li>\n",
       "\t<li>0.754758580605095</li>\n",
       "\t<li>0.754758580605095</li>\n",
       "\t<li>&lt;NA&gt;</li>\n",
       "\t<li>0.781413539133421</li>\n",
       "\t<li>0.804745779706586</li>\n",
       "\t<li>0.696010329137219</li>\n",
       "\t<li>0.829569555790793</li>\n",
       "</ol>\n"
      ],
      "text/latex": [
       "\\begin{enumerate*}\n",
       "\\item 0.938284827880156\n",
       "\\item 0.875316268362371\n",
       "\\item 0.754758580605095\n",
       "\\item 0.754758580605095\n",
       "\\item <NA>\n",
       "\\item 0.781413539133421\n",
       "\\item 0.804745779706586\n",
       "\\item 0.696010329137219\n",
       "\\item 0.829569555790793\n",
       "\\end{enumerate*}\n"
      ],
      "text/markdown": [
       "1. 0.938284827880156\n",
       "2. 0.875316268362371\n",
       "3. 0.754758580605095\n",
       "4. 0.754758580605095\n",
       "5. &lt;NA&gt;\n",
       "6. 0.781413539133421\n",
       "7. 0.804745779706586\n",
       "8. 0.696010329137219\n",
       "9. 0.829569555790793\n",
       "\n",
       "\n"
      ],
      "text/plain": [
       "[1] 0.9382848 0.8753163 0.7547586 0.7547586        NA 0.7814135 0.8047458\n",
       "[8] 0.6960103 0.8295696"
      ]
     },
     "metadata": {},
     "output_type": "display_data"
    }
   ],
   "source": [
    "o$doomedEdge"
   ]
  },
  {
   "cell_type": "code",
   "execution_count": 148,
   "metadata": {},
   "outputs": [
    {
     "data": {
      "text/html": [
       "<table>\n",
       "<caption>A data.frame: 1 × 5</caption>\n",
       "<thead>\n",
       "\t<tr><th></th><th scope=col>wgdNode</th><th scope=col>type</th><th scope=col>retain1</th><th scope=col>retain2</th><th scope=col>retain3</th></tr>\n",
       "\t<tr><th></th><th scope=col>&lt;int&gt;</th><th scope=col>&lt;chr&gt;</th><th scope=col>&lt;dbl&gt;</th><th scope=col>&lt;dbl&gt;</th><th scope=col>&lt;dbl&gt;</th></tr>\n",
       "</thead>\n",
       "<tbody>\n",
       "\t<tr><th scope=row>9-8</th><td>9</td><td>WGD</td><td>0.5</td><td>0.5</td><td>0</td></tr>\n",
       "</tbody>\n",
       "</table>\n"
      ],
      "text/latex": [
       "A data.frame: 1 × 5\n",
       "\\begin{tabular}{r|lllll}\n",
       "  & wgdNode & type & retain1 & retain2 & retain3\\\\\n",
       "  & <int> & <chr> & <dbl> & <dbl> & <dbl>\\\\\n",
       "\\hline\n",
       "\t9-8 & 9 & WGD & 0.5 & 0.5 & 0\\\\\n",
       "\\end{tabular}\n"
      ],
      "text/markdown": [
       "\n",
       "A data.frame: 1 × 5\n",
       "\n",
       "| <!--/--> | wgdNode &lt;int&gt; | type &lt;chr&gt; | retain1 &lt;dbl&gt; | retain2 &lt;dbl&gt; | retain3 &lt;dbl&gt; |\n",
       "|---|---|---|---|---|---|\n",
       "| 9-8 | 9 | WGD | 0.5 | 0.5 | 0 |\n",
       "\n"
      ],
      "text/plain": [
       "    wgdNode type retain1 retain2 retain3\n",
       "9-8 9       WGD  0.5     0.5     0      "
      ]
     },
     "metadata": {},
     "output_type": "display_data"
    }
   ],
   "source": [
    "a$wgdTab"
   ]
  },
  {
   "cell_type": "code",
   "execution_count": 181,
   "metadata": {},
   "outputs": [],
   "source": [
    "m = microbenchmark::microbenchmark(logLik_CsurosMiklos_(log(c(.2,.3)), \n",
    "    nLeaf=4, nFamily=2, a$phyloMat, dat, mMax=11, \n",
    "    a$wgdTab, a$edgeOrder), times = 100)"
   ]
  },
  {
   "cell_type": "code",
   "execution_count": 182,
   "metadata": {},
   "outputs": [
    {
     "data": {
      "text/plain": [
       "   user  system elapsed \n",
       "  0.458   0.000   0.457 "
      ]
     },
     "metadata": {},
     "output_type": "display_data"
    }
   ],
   "source": [
    "system.time(replicate(100, logLik_CsurosMiklos_(log(c(.2,.3)), \n",
    "    nLeaf=4, nFamily=2, a$phyloMat, dat, mMax=11, \n",
    "    a$wgdTab, a$edgeOrder)))"
   ]
  },
  {
   "cell_type": "code",
   "execution_count": 222,
   "metadata": {},
   "outputs": [
    {
     "data": {
      "text/html": [
       "<table>\n",
       "<caption>A matrix: 1 × 1 of type dbl</caption>\n",
       "<tbody>\n",
       "\t<tr><td>14</td></tr>\n",
       "</tbody>\n",
       "</table>\n"
      ],
      "text/latex": [
       "A matrix: 1 × 1 of type dbl\n",
       "\\begin{tabular}{l}\n",
       "\t 14\\\\\n",
       "\\end{tabular}\n"
      ],
      "text/markdown": [
       "\n",
       "A matrix: 1 × 1 of type dbl\n",
       "\n",
       "| 14 |\n",
       "\n"
      ],
      "text/plain": [
       "     [,1]\n",
       "[1,] 14  "
      ]
     },
     "metadata": {},
     "output_type": "display_data"
    }
   ],
   "source": [
    "c(1,2,3) %*% c(1,2,3) "
   ]
  },
  {
   "cell_type": "code",
   "execution_count": 149,
   "metadata": {},
   "outputs": [
    {
     "data": {
      "text/html": [
       "9.43739893993963"
      ],
      "text/latex": [
       "9.43739893993963"
      ],
      "text/markdown": [
       "9.43739893993963"
      ],
      "text/plain": [
       "[1] 9.437399"
      ]
     },
     "metadata": {},
     "output_type": "display_data"
    }
   ],
   "source": [
    "getLikGeneCount(log(c(.2,.3)),a,dat,mMax=11,geomProb=0.9,conditioning=\"oneInBothClades\") /2"
   ]
  }
 ],
 "metadata": {
  "@webio": {
   "lastCommId": null,
   "lastKernelId": null
  },
  "kernelspec": {
   "display_name": "R",
   "language": "R",
   "name": "ir"
  },
  "language_info": {
   "codemirror_mode": "r",
   "file_extension": ".r",
   "mimetype": "text/x-r-source",
   "name": "R",
   "pygments_lexer": "r",
   "version": "3.4.4"
  }
 },
 "nbformat": 4,
 "nbformat_minor": 2
}
